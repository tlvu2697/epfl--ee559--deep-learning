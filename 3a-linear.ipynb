{
 "cells": [
  {
   "cell_type": "markdown",
   "metadata": {},
   "source": [
    "## 3a. Linear classifiers, perceptron"
   ]
  },
  {
   "cell_type": "markdown",
   "metadata": {},
   "source": [
    "### 1. Perceptron\n",
    "<img width=30% src=\"images/3a-1.png\">\n",
    "- Input & Output: real values (Floating)\n",
    "- This model was originally motivated by biology, with $w_{i}$ being the *synaptic weights*, and $x_{i}$ being the *firing rates*\n",
    "- Wrap the function $f(x)$ above with **activation function** $\\sigma$ to get simpler output:\n",
    "\n",
    "$$\n",
    "\\sigma = \n",
    "\\begin{cases}\n",
    "1 \\, \\text{ if } x \\geq 0 \\\\\n",
    "-1 \\, \\text{ otherwise }\n",
    "\\end{cases} \\rightarrow g(x) = \\sigma\\,(\\,f(x))\n",
    "$$\n",
    "\n",
    "- Represent function $g(x) = \\sigma\\,(\\,f(x))$ using tensor operations:\n",
    "<img width=40% src=\"images/3a-2.png\">\n",
    "- Perceptron algorithm to train classification:\n",
    "\n",
    "> 1. Start with $w^{0}$ = 0,\n",
    "> 2. while $\\exists n_{k}$ s.t. $y_{n_{k}} (w^{k} \\cdot x_{n_{k}}) \\leq 0$ ($k$ iteration)\n",
    "---\n",
    "```python\n",
    "def train_perceptron(x, y, nb_epochs_max):\n",
    "    w = Tensor(x.size(1)).zero_()\n",
    "\n",
    "    for e in range(nb_epochs_max):\n",
    "        nb_changes = 0\n",
    "        for i in range(x.size(0)):\n",
    "            if x[i].dot(w) * y[i] <= 0:\n",
    "                w = w + y[i] * x[i]\n",
    "                nb_changes += 1\n",
    "        if nb_changes == 0:\n",
    "            break\n",
    "    \n",
    "    return w\n",
    "```"
   ]
  },
  {
   "cell_type": "markdown",
   "metadata": {},
   "source": [
    "### 2. Linear Discriminant Analysis (LDA) algorithm:\n",
    "- Sigmoid function:\n",
    "    $$\\sigma(x) = \\frac{1}{2}$$\n",
    "- LDA Model:\n",
    "    $$f(x;\\, w,\\, b) = \\sigma\\,(w \\cdot x + b)$$\n",
    "(very similiar to the perceptron)\n",
    "- Consequence:\n",
    "    $$1 - \\sigma(x) = 1 - \\frac{1}{1 + e^{-x}} = \\sigma(-x)$$"
   ]
  },
  {
   "cell_type": "markdown",
   "metadata": {},
   "source": [
    "### 3. Multi-dimensional output:\n",
    "- We can combine multiple liner predictors into a \"layer\" that takes several inputs and produces serveral outputs:\n",
    "    $$\\forall i = 1,..., M, y_{i} = \\sigma (\\sum_{j = 1}^N w_{i, j} x_{j} + b_{i})$$\n",
    "where $b_{i}$ is the \"bias\" of the $i$-th unit, and $w_{i, 1},..., w_{i, N}$ are its weights\n",
    "- With $M = 2$ and $N = 3$, we have:\n",
    "<img width=60% src=\"images/3a-3.png\">\n"
   ]
  },
  {
   "cell_type": "markdown",
   "metadata": {},
   "source": [
    "### 4. Limitations of Linear predictors\n",
    "- Lack of capacity; for classification, the population must be **linearly separable**\n",
    "- The example below can't be classified by normal approach:\n",
    "<img width=30% src=\"images/3a-4.png\">\n",
    "$\\rightarrow$ Solution: pre-processing the data to make the two populations linearly separable (by a plane)\n",
    "<img width=30% src=\"images/3a-5.png\">\n",
    "$\\rightarrow$ Model: $f(x) = \\sigma\\,(w\\cdot\\phi(x) + b)$\n",
    "- Bias-variance tradeoff:\n",
    "$$\n",
    "E((Y - y)^{2})  = (E(Y) - y)^{2} + V(Y) = Bias + Variance\n",
    "$$\n",
    "$\\rightarrow$ Right class of models reduces the bias more and increasees the variance less"
   ]
  }
 ],
 "metadata": {
  "kernelspec": {
   "display_name": "Python 3",
   "language": "python",
   "name": "python3"
  },
  "language_info": {
   "codemirror_mode": {
    "name": "ipython",
    "version": 3
   },
   "file_extension": ".py",
   "mimetype": "text/x-python",
   "name": "python",
   "nbconvert_exporter": "python",
   "pygments_lexer": "ipython3",
   "version": "3.6.4"
  }
 },
 "nbformat": 4,
 "nbformat_minor": 2
}
