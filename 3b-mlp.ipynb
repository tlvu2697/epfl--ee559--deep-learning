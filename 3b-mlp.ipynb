{
 "cells": [
  {
   "cell_type": "markdown",
   "metadata": {},
   "source": [
    "## 3b. Multi-Layer Perceptrons"
   ]
  },
  {
   "cell_type": "markdown",
   "metadata": {},
   "source": [
    "### 1. Combining multiple layers\n",
    "- Separate the linear operators and the non-linearities in different blocks.\n",
    "- Multi-layer percetrons model:\n",
    "<img width=80% src=\"images/3b-1.png\">\n",
    "- $\\sigma$ is a linear transformation:  \n",
    "$\\sigma\\,(x) = \\alpha x + \\beta$  \n",
    "$\\rightarrow \\forall l = 1,...,L\\,|\\,x^{(l)} = \\alpha(w^{(l)} x^{(l-1)} + b^{(l)}) + \\beta$\n",
    "- Classical activation functions:\n",
    "    1. Hyperbolic tangent\n",
    "    <img width=40% src=\"images/3b-2.png\">\n",
    "    2. Rectified linear unit (ReLU)\n",
    "    <img width=40% src=\"images/3b-3.png\">"
   ]
  },
  {
   "cell_type": "markdown",
   "metadata": {},
   "source": [
    "### 2. Universal approximation\n",
    "- We can approximate any curve with a linear combination of ReLU functions.\n",
    "<img width=60% src=\"images/3b-4.png\">"
   ]
  },
  {
   "cell_type": "markdown",
   "metadata": {},
   "source": [
    "### 3. Training and Gradient descent\n",
    "- Mean-squared error (MSE)\n",
    "- Minimizing loss technique: Gradient descent\n",
    "<img width=60% src=\"images/3b-5.png\">\n"
   ]
  },
  {
   "cell_type": "markdown",
   "metadata": {},
   "source": [
    "### 4. Back-propagation\n",
    "<img width=80% src=\"images/3b-5.png\">"
   ]
  }
 ],
 "metadata": {
  "kernelspec": {
   "display_name": "Python 3",
   "language": "python",
   "name": "python3"
  },
  "language_info": {
   "codemirror_mode": {
    "name": "ipython",
    "version": 3
   },
   "file_extension": ".py",
   "mimetype": "text/x-python",
   "name": "python",
   "nbconvert_exporter": "python",
   "pygments_lexer": "ipython3",
   "version": "3.6.4"
  }
 },
 "nbformat": 4,
 "nbformat_minor": 2
}
