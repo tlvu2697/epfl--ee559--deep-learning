{
 "cells": [
  {
   "cell_type": "markdown",
   "metadata": {},
   "source": [
    "## 4b. PyTorch modules, batch processing"
   ]
  },
  {
   "cell_type": "code",
   "execution_count": 26,
   "metadata": {},
   "outputs": [],
   "source": [
    "\"\"\"\n",
    "    Initialization\n",
    "\"\"\"\n",
    "\n",
    "\n",
    "import time\n",
    "import torch\n",
    "import matplotlib.pyplot as plt\n",
    "import torch.nn.functional as Func\n",
    "from torch import nn\n",
    "from torch import Tensor\n",
    "from torchvision import datasets\n",
    "from torch.autograd import Variable"
   ]
  },
  {
   "cell_type": "markdown",
   "metadata": {},
   "source": [
    "### Overview\n",
    "- Functions and Modules to build complicated architectures:\n",
    "    + torch.nn.functional.relu  \n",
    "    + torch.nn.functional.max_pool2d  \n",
    "    + torch.nn.Conv2d  \n",
    "    + torch.nn.Linear  \n",
    "    + torch.nn.MSELoss  \n",
    "- torch.nn.Module: losses and network components\n",
    "- torch.nn.Parameter: be optimized during training\n",
    "- torch.nn only processes Variables"
   ]
  },
  {
   "cell_type": "markdown",
   "metadata": {},
   "source": [
    "### 1. ReLu\n",
    "```python\n",
    "    torch.nn.functional.relu(input, inplace=False)  \n",
    "```\n",
    ">- inplace: pass-by-ref (True) / pass-by-value (False)  \n",
    ">- ReLu(x) = max(0, x)"
   ]
  },
  {
   "cell_type": "code",
   "execution_count": 3,
   "metadata": {},
   "outputs": [
    {
     "name": "stdout",
     "output_type": "stream",
     "text": [
      "tensor([[-0.9945,  0.0219, -1.6438,  0.4026, -2.3009],\n",
      "        [-0.3550,  1.7481, -0.7300, -1.2916,  0.1508]])\n",
      "tensor([[ 0.0000,  0.0219,  0.0000,  0.4026,  0.0000],\n",
      "        [ 0.0000,  1.7481,  0.0000,  0.0000,  0.1508]])\n"
     ]
    }
   ],
   "source": [
    "\"\"\"\n",
    "    Example of 'torch.nn.functional.relu'\n",
    "\"\"\"\n",
    "\n",
    "\n",
    "x = Variable(Tensor(2, 5).normal_())\n",
    "print(x)\n",
    "print(Func.relu(x))"
   ]
  },
  {
   "cell_type": "markdown",
   "metadata": {},
   "source": [
    "### * Note: Padding & Stride\n",
    "- Padding & Stride in pooling & convolution\n",
    "    Padding: size of a zeroed frame added around the input\n",
    "    Stride: step size when moving the filter accross signal\n",
    "- Default Stride:\n",
    "    Pooling: == kernel size\n",
    "    Convolution: == 1\n",
    "<img width=60% src=\"images/4b-1.png\">"
   ]
  },
  {
   "cell_type": "markdown",
   "metadata": {},
   "source": [
    "### 2. Max Pooling\n",
    "```python\n",
    "torch.nn.functional.max_pool2d(input, kernel_size,\n",
    "                    stride=None, padding=0, dilation=1\n",
    "                    ceil_mode=False, return_indices=False)\n",
    "```\n",
    "---\n",
    "- Takes as input a $N \\times C \\times H \\times W$ tensor, and a kernel size $(h, w)$, applies the max-pooling on each channel of each sample separately, and produce if the padding is 0 a $N \\times C \\times [H\\,/\\,h] \\times [W\\,/\\,w]$ output."
   ]
  },
  {
   "cell_type": "code",
   "execution_count": 4,
   "metadata": {},
   "outputs": [
    {
     "name": "stdout",
     "output_type": "stream",
     "text": [
      "tensor([[[[ 0.,  1.,  2.,  1.,  2.,  0.],\n",
      "          [ 1.,  1.,  2.,  0.,  2.,  0.],\n",
      "          [ 1.,  1.,  2.,  1.,  1.,  0.]],\n",
      "\n",
      "         [[ 2.,  2.,  0.,  0.,  1.,  1.],\n",
      "          [ 2.,  1.,  1.,  2.,  0.,  0.],\n",
      "          [ 0.,  0.,  1.,  0.,  1.,  1.]]]])\n",
      "tensor([[[[ 1.,  2.,  2.],\n",
      "          [ 1.,  2.,  2.],\n",
      "          [ 1.,  2.,  1.]],\n",
      "\n",
      "         [[ 2.,  0.,  1.],\n",
      "          [ 2.,  2.,  0.],\n",
      "          [ 0.,  1.,  1.]]]])\n"
     ]
    }
   ],
   "source": [
    "\"\"\"\n",
    "    Example of 'torch.nn.functional.max_pool2d'\n",
    "    \n",
    "    Tensor(1, 2, 3, 6): 1 x 2 x 3 x 6\n",
    "        1 sample\n",
    "        2 channels\n",
    "        height: 3\n",
    "        width: 6\n",
    "\"\"\"\n",
    "\n",
    "\n",
    "x = Variable(Tensor(1, 2, 3, 6).random_(3))\n",
    "print(x)\n",
    "print(Func.max_pool2d(x, (1, 2)))"
   ]
  },
  {
   "cell_type": "markdown",
   "metadata": {},
   "source": [
    "### 3. Linear\n",
    "```python\n",
    "torch.nn.Linear(in_features, out_features, bias=True)\n",
    "```\n",
    "---\n",
    "- Implements a $R^{C} \\rightarrow R^{D}$ fully-connected layer. Input a tensor of size $N \\times C$ and produce a tensor of size $N \\times D$. (Weights and biases are randomized at creation)"
   ]
  },
  {
   "cell_type": "code",
   "execution_count": 5,
   "metadata": {},
   "outputs": [
    {
     "name": "stdout",
     "output_type": "stream",
     "text": [
      "torch.Size([4, 2])\n",
      "torch.Size([4])\n",
      "tensor([[ 0.5097, -1.0184],\n",
      "        [ 0.9315,  0.4641],\n",
      "        [-0.4460,  0.0029],\n",
      "        [ 1.3279, -0.0252]])\n",
      "tensor([[-0.4948,  0.3171, -0.3238,  1.2026],\n",
      "        [-0.0555,  0.0722, -0.9408,  0.2461],\n",
      "        [ 0.2885,  0.8594,  0.0726,  0.6264],\n",
      "        [-0.4070, -0.1526, -1.0902,  0.5261]])\n"
     ]
    }
   ],
   "source": [
    "\"\"\"\n",
    "    Example of 'torch.nn.Linear'\n",
    "\"\"\"\n",
    "\n",
    "\n",
    "f = torch.nn.Linear(in_features=2, out_features=4)\n",
    "print(f.weight.size())\n",
    "print(f.bias.size())\n",
    "\n",
    "x = Variable(Tensor(4, 2).normal_())\n",
    "y = f(x)\n",
    "print(x)\n",
    "print(y)"
   ]
  },
  {
   "cell_type": "markdown",
   "metadata": {},
   "source": [
    "### 4. 2D Convolution\n",
    "```python\n",
    "torch.nn.Conv2d(in_channels, out_channels, kernel_size,\n",
    "    stride=1, padding=0, dilation=1, groups1=1, bias=True)\n",
    "```\n",
    ">- Input: $N \\times C \\times H \\times W$ tensor  \n",
    ">- Output: $N \\times (H - h + 1) \\times (W - w + 1)$  \n",
    "---\n",
    "- Implements a standard 2d convolutional layer"
   ]
  },
  {
   "cell_type": "code",
   "execution_count": 6,
   "metadata": {},
   "outputs": [
    {
     "name": "stdout",
     "output_type": "stream",
     "text": [
      "torch.Size([5, 4, 2, 3])\n",
      "torch.Size([5])\n",
      "tensor([[[[ 1.9712, -0.7055,  0.1082, -0.0689],\n",
      "          [-0.3048, -0.7793,  0.9191, -1.7814],\n",
      "          [-0.4338, -0.7789, -0.1144,  0.3909],\n",
      "          [-0.1569, -0.2368, -0.3483,  0.3529]],\n",
      "\n",
      "         [[-1.3660,  0.8015, -0.6690,  0.8852],\n",
      "          [-0.9365, -0.0347,  1.1582, -0.3040],\n",
      "          [-1.7650, -0.3286,  2.0402,  0.5080],\n",
      "          [-0.4685, -0.7869, -0.5159,  0.4828]],\n",
      "\n",
      "         [[-0.4751,  0.2950, -1.4391,  1.2331],\n",
      "          [ 0.2727,  1.3635,  1.9742,  0.4765],\n",
      "          [ 1.1541, -1.3829,  0.2506, -0.2462],\n",
      "          [ 0.3795, -0.2685,  0.3571,  0.8608]],\n",
      "\n",
      "         [[-0.0960,  0.8988, -0.1513,  1.1056],\n",
      "          [-0.0266, -0.5276, -0.5363, -0.6488],\n",
      "          [ 0.8343, -0.8952,  0.5150, -0.7453],\n",
      "          [-0.0732, -0.5639, -0.5906, -0.6649]]]])\n",
      "tensor([[[[ 1.1071, -1.0226],\n",
      "          [-0.1174, -0.0414],\n",
      "          [-0.0320,  0.5923]],\n",
      "\n",
      "         [[ 0.0648,  0.4142],\n",
      "          [-0.1941, -0.2695],\n",
      "          [ 0.3226, -0.2623]],\n",
      "\n",
      "         [[ 0.3821,  0.6131],\n",
      "          [-0.7383, -0.2043],\n",
      "          [-0.0020,  0.2384]],\n",
      "\n",
      "         [[-0.0993, -0.1976],\n",
      "          [-0.6422,  0.4390],\n",
      "          [-0.5898, -0.1330]],\n",
      "\n",
      "         [[-0.6853,  1.1006],\n",
      "          [-0.0146,  0.0695],\n",
      "          [ 0.8358, -0.0621]]]])\n"
     ]
    }
   ],
   "source": [
    "\"\"\"\n",
    "    Example of 'torch.nn.Conv2d'\n",
    "\"\"\"\n",
    "\n",
    "\n",
    "l = torch.nn.Conv2d(in_channels=4, out_channels=5, kernel_size=(2, 3))\n",
    "print(l.weight.size())\n",
    "print(l.bias.size())\n",
    "\n",
    "x = Variable(Tensor(1, 4, 4, 4).normal_())\n",
    "y = l(x)\n",
    "print(x)\n",
    "print(y)"
   ]
  },
  {
   "cell_type": "markdown",
   "metadata": {},
   "source": [
    "- **Real-world example of 2d Convolutional Layer**\n",
    "<img width=60% src=\"images/4b-2.png\">"
   ]
  },
  {
   "cell_type": "code",
   "execution_count": 7,
   "metadata": {},
   "outputs": [
    {
     "name": "stdout",
     "output_type": "stream",
     "text": [
      "### Original Image\n"
     ]
    },
    {
     "data": {
      "image/png": "[encoded data removed]",
      "text/plain": [
       "<Figure size 432x288 with 1 Axes>"
      ]
     },
     "metadata": {},
     "output_type": "display_data"
    },
    {
     "name": "stdout",
     "output_type": "stream",
     "text": [
      "### After 5 Convolutional Layers\n"
     ]
    },
    {
     "data": {
      "image/png": "[encoded data removed]",
      "text/plain": [
       "<Figure size 432x288 with 1 Axes>"
      ]
     },
     "metadata": {},
     "output_type": "display_data"
    },
    {
     "data": {
      "image/png": "[encoded data removed]",
      "text/plain": [
       "<Figure size 432x288 with 1 Axes>"
      ]
     },
     "metadata": {},
     "output_type": "display_data"
    },
    {
     "data": {
      "image/png": "[encoded data removed]",
      "text/plain": [
       "<Figure size 432x288 with 1 Axes>"
      ]
     },
     "metadata": {},
     "output_type": "display_data"
    },
    {
     "data": {
      "image/png": "[encoded data removed]",
      "text/plain": [
       "<Figure size 432x288 with 1 Axes>"
      ]
     },
     "metadata": {},
     "output_type": "display_data"
    },
    {
     "data": {
      "image/png": "[encoded data removed]",
      "text/plain": [
       "<Figure size 432x288 with 1 Axes>"
      ]
     },
     "metadata": {},
     "output_type": "display_data"
    }
   ],
   "source": [
    "\"\"\"\n",
    "    Real-world exmaple of 2d Convolutional Layer\n",
    "\"\"\"\n",
    "\n",
    "\n",
    "# Load data\n",
    "mnist_train = datasets.MNIST('./data/mnist/', train = True, download = True)\n",
    "x = mnist_train.train_data[12].float().view(1,1,28,28)\n",
    "\n",
    "# Initialize the layer (filter)\n",
    "f = torch.nn.Conv2d(1,5,kernel_size=3)\n",
    "f.bias.data.zero_()\n",
    "\n",
    "# Define the layer (filter)\n",
    "f.weight.data[0] = Tensor([[0,0,0],\n",
    "\t\t\t\t\t\t   [0,1,0],\n",
    "\t\t\t\t\t\t   [0,0,0]])\n",
    "f.weight.data[1] = Tensor([[1,1,1],\n",
    "\t\t\t\t\t\t   [1,1,1],\n",
    "\t\t\t\t\t\t   [1,1,1]])\n",
    "f.weight.data[2] = Tensor([[-1,0,1],\n",
    "\t\t\t\t\t\t   [-1,0,1],\n",
    "\t\t\t\t\t\t   [-1,0,1]])\n",
    "f.weight.data[3] = Tensor([[-1,-1,-1],\n",
    "\t\t\t\t\t\t   [0,0,0],\n",
    "\t\t\t\t\t\t   [1,1,1]])\n",
    "f.weight.data[4] = Tensor([[0,-1,0],\n",
    "\t\t\t\t\t\t   [-1,4,-1],\n",
    "\t\t\t\t\t\t   [0,-1,0]])\n",
    "\n",
    "# Forward\n",
    "y = f(Variable(x)).data\n",
    "\n",
    "# Print results\n",
    "print('### Original Image')\n",
    "plt.imshow(x[0][0])\n",
    "plt.show()\n",
    "\n",
    "print('### After 5 Convolutional Layers')\n",
    "for i in range(0, 5):\n",
    "    plt.imshow(y[0][i])\n",
    "    plt.show()"
   ]
  },
  {
   "cell_type": "markdown",
   "metadata": {},
   "source": [
    "### 5. Loss Function\n",
    "```python\n",
    "torch.nn.MSELoss(input, target)\n",
    "```\n",
    ">- input: what we predicted  \n",
    ">- target: groundtruth (requires_grad must be False)  \n",
    ">- output: Variable\n",
    "---\n",
    "- Implements the Mean Square Error loss\n",
    "- $MSELoss()$ = sum of component-wise squared difference, divided by the total number of components in the tensors\n",
    "- $MSELoss()$ can also be used for training classification. (By re-represent the input and target as follow). With $N = 5$ and $C = 3$:\n",
    "        |2|       | -1  1 -1 |\n",
    "        |1|       |  1 -1 -1 |\n",
    "        |1|   →   |  1 -1 -1 |\n",
    "        |3|       | -1 -1  1 |\n",
    "        |2|       | -1  1 -1 |"
   ]
  },
  {
   "cell_type": "code",
   "execution_count": 8,
   "metadata": {},
   "outputs": [
    {
     "name": "stdout",
     "output_type": "stream",
     "text": [
      "tensor(9.)\n",
      "tensor(2.2500)\n"
     ]
    }
   ],
   "source": [
    "\"\"\"\n",
    "    Example of 'torch.nn.MSELoss'\n",
    "\"\"\"\n",
    "\n",
    "\n",
    "f = torch.nn.MSELoss()\n",
    "\n",
    "x = Variable(Tensor([[3]]))\n",
    "y = Variable(Tensor([[0]]))\n",
    "print(f(x, y))\n",
    "\n",
    "x = Variable(Tensor([[3, 0, 0, 0]]))\n",
    "y = Variable(Tensor([[0, 0, 0, 0]]))\n",
    "print(f(x, y))"
   ]
  },
  {
   "cell_type": "markdown",
   "metadata": {},
   "source": [
    "### 6. Build up Convolutional Network:\n",
    "<img width=80% src=\"images/4b-3.png\">\n"
   ]
  },
  {
   "cell_type": "markdown",
   "metadata": {},
   "source": [
    "### 7. Creating a Module\n",
    "- Rules:\n",
    "    1. Implement constructor: `__init__(self, ...)`\n",
    "    2. Implement forward pass: `forward(self, x)`\n",
    "- Modules & Parameters are added as attributes in `Module.parameters()`\n",
    "- Add Modules & Parameter:\n",
    "    1. Declare in `__init__()`\n",
    "    2. `Module.add_module(name, module)`\n",
    "    3. `Module.register_parameter(name, module)`\n",
    "- `nn.ModuleList`:\n",
    "    Use append to add Module to ModuleList"
   ]
  },
  {
   "cell_type": "code",
   "execution_count": 25,
   "metadata": {},
   "outputs": [
    {
     "name": "stdout",
     "output_type": "stream",
     "text": [
      "0. param - torch.Size([123, 456])\n",
      "1. param2 - torch.Size([11, 20])\n",
      "2. conv1.weight - torch.Size([32, 1, 5, 5])\n",
      "3. conv1.bias - torch.Size([32])\n",
      "4. conv2.weight - torch.Size([64, 32, 5, 5])\n",
      "5. conv2.bias - torch.Size([64])\n",
      "6. fc1.weight - torch.Size([200, 256])\n",
      "7. fc1.bias - torch.Size([200])\n",
      "8. fc2.weight - torch.Size([10, 200])\n",
      "9. fc2.bias - torch.Size([10])\n",
      "10. fc3.weight - torch.Size([21, 54])\n",
      "11. fc3.bias - torch.Size([21])\n",
      "12. fc_list.0.weight - torch.Size([75, 50])\n",
      "13. fc_list.0.bias - torch.Size([75])\n",
      "14. fc_list.1.weight - torch.Size([999, 125])\n",
      "15. fc_list.1.bias - torch.Size([999])\n"
     ]
    }
   ],
   "source": [
    "\"\"\"\n",
    "    Example of 'Creating a Module'\n",
    "\"\"\"\n",
    "\n",
    "\n",
    "class Net(nn.Module):\n",
    "    def __init__(self):\n",
    "        super(Net, self).__init__()\n",
    "        self.conv1 = nn.Conv2d(1, 32, kernel_size=5)\n",
    "        self.conv2 = nn.Conv2d(32, 64, kernel_size=5)\n",
    "        self.fc1 = nn.Linear(256, 200)\n",
    "        self.fc2 = nn.Linear(200, 10)\n",
    "        self.param = nn.Parameter(Tensor(123, 456))\n",
    "        \n",
    "        self.add_module('fc3', nn.Linear(54, 21))\n",
    "        self.register_parameter('param2', nn.Parameter(Tensor(11, 20)))\n",
    "        \n",
    "        self.fc_list = nn.ModuleList()\n",
    "        self.fc_list.append(nn.Linear(50, 75))\n",
    "        self.fc_list.append(nn.Linear(125, 999))\n",
    "\n",
    "    def forward(self, x):\n",
    "        x = F.relu(F.max_pool2d(self.conv1(x), kernel_size=3, stride=3))\n",
    "        x = F.relu(F.max_pool2d(self.conv2(x), kernel_size=2, stride=2))\n",
    "        x = x.view(-1, 256)\n",
    "        x = F.relu(self.fc1(x))\n",
    "        x = self.fc2(x)\n",
    "        return x\n",
    "\n",
    "\"\"\"\n",
    "    Modules & Parameters are added as attributes in Module.parameters()\n",
    "\"\"\"\n",
    "\n",
    "\n",
    "model = Net()\n",
    "i = 0\n",
    "# for param in model.parameters():\n",
    "for name, param in model.named_parameters():\n",
    "    print('{}. {} - {}'.format(i, name, param.size()))\n",
    "    i += 1"
   ]
  },
  {
   "cell_type": "markdown",
   "metadata": {},
   "source": [
    "### 8. Batch processing\n",
    "- Before: $x$ is column vectors in computing $s$ process:\n",
    "<img width=60% src=\"images/4b-4.png\">\n",
    "\n",
    "- After: convert multiple x to 1 column vector:\n",
    "<img width=40% src=\"images/4b-5.png\">\n",
    "then:\n",
    "<img width=20% src=\"images/4b-6.png\">\n",
    "profit: more efficient effort to perform deep learning"
   ]
  },
  {
   "cell_type": "code",
   "execution_count": 33,
   "metadata": {},
   "outputs": [
    {
     "name": "stdout",
     "output_type": "stream",
     "text": [
      "CPU batch vs. loop speed ratio 21.8\n",
      "GPU batch vs. loop speed ratio 160.9\n"
     ]
    }
   ],
   "source": [
    "\"\"\"\n",
    "    Example of Batch processing (Compared to Traditional method)\n",
    "\"\"\"\n",
    "\n",
    "\n",
    "def timing(x, w, nb=51):\n",
    "    t = torch.FloatTensor(nb)\n",
    "    \n",
    "    # Batch processing\n",
    "    for u in range(t.size(0)):\n",
    "        t0 = time.perf_counter()\n",
    "        ##\n",
    "        y = x.mm(w.t())\n",
    "        \n",
    "        y.is_cuda and torch.cuda.synchronize()\n",
    "        t[u] = time.perf_counter() - t0\n",
    "    tb = t.median()\n",
    "    \n",
    "    # Traditional method\n",
    "    for u in range(t.size(0)):\n",
    "        t0 = time.perf_counter()\n",
    "        ##\n",
    "        for k in range(y.size(0)):\n",
    "            y[k] = w.mv(x[k])\n",
    "\n",
    "        y.is_cuda and torch.cuda.synchronize()\n",
    "        t[u] = time.perf_counter() - t0\n",
    "    tl = t.median()\n",
    "    \n",
    "    print('{} batch vs. loop speed ratio {:.01f}'\n",
    "          .format((y.is_cuda and 'GPU') or 'CPU', tl / tb))\n",
    "\n",
    "x = torch.FloatTensor(250, 100).normal_()\n",
    "w = torch.FloatTensor(150, 100).normal_()\n",
    "timing(x, w)\n",
    "\n",
    "x = torch.cuda.FloatTensor(250, 100).normal_()\n",
    "w = torch.cuda.FloatTensor(150, 100).normal_()\n",
    "timing(x, w)"
   ]
  }
 ],
 "metadata": {
  "kernelspec": {
   "display_name": "Python 3",
   "language": "python",
   "name": "python3"
  },
  "language_info": {
   "codemirror_mode": {
    "name": "ipython",
    "version": 3
   },
   "file_extension": ".py",
   "mimetype": "text/x-python",
   "name": "python",
   "nbconvert_exporter": "python",
   "pygments_lexer": "ipython3",
   "version": "3.6.5"
  }
 },
 "nbformat": 4,
 "nbformat_minor": 2
}
